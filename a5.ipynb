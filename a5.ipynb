{
 "cells": [
  {
   "cell_type": "code",
   "execution_count": null,
   "id": "ebc57933-2459-487c-a5c4-77ed237bd1fd",
   "metadata": {},
   "outputs": [],
   "source": [
    "Q2. Write a Python Program to find the squares of all the numbers in the given list of integers usingGiven String: [1, 2, 3, 4, 5, 6, 7, 8, 9, 10]\n",
    "lambda and map functions.\n",
    "Ans: \n",
    "    l=[1,2,3,4,5,6,7,8,9,10]\n",
    "    list(map(lambda a:a**2,l))."
   ]
  },
  {
   "cell_type": "code",
   "execution_count": null,
   "id": "f32a36f8-3ddf-4444-bbcc-f512f0a4b55b",
   "metadata": {},
   "outputs": [],
   "source": [
    "Q1. Create a python program to sort the given list of tuples based on integer value using a lambda function. [('Sachin Tendulkar', 34357), ('Ricky Ponting', 27483), ('Jack Kallis', 25534), ('Virat Kohli', 24936)]\n",
    "Ans:\n",
    "    players = [('Sachin Tendulkar', 34357), ('Ricky Ponting', 27483), ('Jack Kallis', 25534), ('Virat Kohli', 24936)] sorted_players = sorted(players, key=lambda x: x[1])\n",
    "\n",
    "print(sorted_players)"
   ]
  },
  {
   "cell_type": "code",
   "execution_count": null,
   "id": "29d5dc27-4055-4e00-8dfd-37e483fadb11",
   "metadata": {},
   "outputs": [],
   "source": [
    "Q3. Write a python program to convert the given list of integers into a tuple of strings. Use map and\n",
    "lambda functions.\n",
    "Given String: [1, 2, 3, 4, 5, 6, 7, 8, 9, 10]\n",
    "\n",
    "Ans:\n",
    "    numbers = [1, 2, 3, 4, 5, 6, 7, 8, 9, 10] \n",
    "    string_numbers = tuple(map(lambda x: str(x), numbers))\n",
    "    print(string_numbers)"
   ]
  },
  {
   "cell_type": "code",
   "execution_count": null,
   "id": "24fcd826-6154-49ed-9c85-6a472e14e877",
   "metadata": {},
   "outputs": [],
   "source": [
    "Q4. Write a python program using reduce function to compute the product of a list containing numbers\n",
    "from 1 to 25.\n",
    "Ans: \n",
    "    numbers = list(range(1, 26)) product = reduce(lambda x, y: x*y, numbers)\n",
    "\n",
    "print(product)"
   ]
  },
  {
   "cell_type": "code",
   "execution_count": null,
   "id": "e8008af3-6a04-4608-a109-5b3600576d90",
   "metadata": {},
   "outputs": [],
   "source": [
    "Q5. Write a python program to filter the numbers in a given list that are divisible by 2 and 3 using the\n",
    "filter function.\n",
    "[2, 3, 6, 9, 27, 60, 90, 120, 55, 46]\n",
    "Ans:\n",
    "    numbers = [2, 3, 6, 9, 27, 60, 90, 120, 55, 46] filtered_numbers = list(filter(lambda x: x % 2 == 0 and x % 3 == 0, numbers))\n",
    "     print(filtered_numbers)"
   ]
  },
  {
   "cell_type": "code",
   "execution_count": null,
   "id": "30935598-60cb-418c-aa82-f789e7bd1030",
   "metadata": {},
   "outputs": [],
   "source": [
    "Q6. Write a python program to find palindromes in the given list of strings using lambda and filter\n",
    "function.\n",
    "['python', 'php', 'aba', 'radar', 'level']\n",
    "Ans:\n",
    "    strings = ['python', 'php', 'aba', 'radar', 'level']\n",
    "    palindromes = list(filter(lambda s: s == s[::-1], strings))\n",
    "\n",
    "print(palindromes)"
   ]
  }
 ],
 "metadata": {
  "kernelspec": {
   "display_name": "Python 3 (ipykernel)",
   "language": "python",
   "name": "python3"
  },
  "language_info": {
   "codemirror_mode": {
    "name": "ipython",
    "version": 3
   },
   "file_extension": ".py",
   "mimetype": "text/x-python",
   "name": "python",
   "nbconvert_exporter": "python",
   "pygments_lexer": "ipython3",
   "version": "3.10.8"
  }
 },
 "nbformat": 4,
 "nbformat_minor": 5
}
